{
 "cells": [
  {
   "cell_type": "code",
   "execution_count": 1,
   "metadata": {},
   "outputs": [
    {
     "name": "stdout",
     "output_type": "stream",
     "text": [
      "/home/rishabh/Documents/Indian_Economy_project\r\n"
     ]
    }
   ],
   "source": [
    "!pwd"
   ]
  },
  {
   "cell_type": "code",
   "execution_count": 2,
   "metadata": {},
   "outputs": [],
   "source": [
    "path = \"/home/rishabh/Documents/Indian_Economy_project/datasets/\""
   ]
  },
  {
   "cell_type": "code",
   "execution_count": 3,
   "metadata": {},
   "outputs": [],
   "source": [
    "import pandas as pd\n",
    "import matplotlib.pyplot as plt\n",
    "import seaborn as sns\n",
    "import os\n",
    "import numpy as np\n",
    "%matplotlib inline"
   ]
  },
  {
   "cell_type": "code",
   "execution_count": 16,
   "metadata": {},
   "outputs": [],
   "source": [
    "df = pd.read_csv(path + \"/1.3-combined-revenue-expenditure-of-the-centre-and-the-states.csv\")"
   ]
  },
  {
   "cell_type": "code",
   "execution_count": 17,
   "metadata": {},
   "outputs": [
    {
     "name": "stdout",
     "output_type": "stream",
     "text": [
      "<class 'pandas.core.frame.DataFrame'>\n",
      "RangeIndex: 60 entries, 0 to 59\n",
      "Data columns (total 45 columns):\n",
      "Heads of Expenditure    60 non-null object\n",
      "1990-91                 60 non-null float64\n",
      "1995-96                 60 non-null float64\n",
      "1996-97                 60 non-null float64\n",
      "1997-98                 60 non-null float64\n",
      "1998-99                 60 non-null float64\n",
      "1999-2000               60 non-null float64\n",
      "2000-01                 60 non-null float64\n",
      "2001-02                 60 non-null float64\n",
      "2002-03                 60 non-null float64\n",
      "2003-04 (RE)            60 non-null float64\n",
      "2003-04                 60 non-null float64\n",
      "2004-05 (BE)            60 non-null float64\n",
      "2004-05 (RE)            60 non-null float64\n",
      "2004-05                 60 non-null float64\n",
      "2005-06 (BE)            60 non-null float64\n",
      "2005-06 (RE)            60 non-null float64\n",
      "2005-06                 60 non-null float64\n",
      "2006-07 (BE)            60 non-null float64\n",
      "2006-07 (RE)            60 non-null float64\n",
      "2006-07                 60 non-null float64\n",
      "2007-08 (BE)            60 non-null float64\n",
      "2007-08 (RE)            60 non-null float64\n",
      "2007-08                 60 non-null float64\n",
      "2008-09 (BE)            60 non-null float64\n",
      "2008-09 (R.E.)          60 non-null float64\n",
      "2008-09                 60 non-null float64\n",
      "2009-10 (B.E.)          60 non-null float64\n",
      "2009-10 (R.E.)          60 non-null float64\n",
      "2009-10                 60 non-null object\n",
      "2010-11 (B.E.)          60 non-null float64\n",
      "2010-11 (R.E.)          60 non-null object\n",
      "2010-11                 60 non-null float64\n",
      "2011-12 (B.E.)          60 non-null object\n",
      "2011-12 (R.E.)          60 non-null float64\n",
      "2011-12                 60 non-null object\n",
      "2012-13 (B.E.)          60 non-null float64\n",
      "2012-13 (R.E.)          60 non-null object\n",
      "2012-13                 60 non-null object\n",
      "2013-14 (B.E.)          60 non-null object\n",
      "2013-14 (R.E.)          60 non-null object\n",
      "2013-14                 60 non-null object\n",
      "2014-15 (B.E.)          60 non-null object\n",
      "2014-15 (RE)            60 non-null object\n",
      "2015-16 (BE)            60 non-null object\n",
      "dtypes: float64(32), object(13)\n",
      "memory usage: 21.2+ KB\n"
     ]
    }
   ],
   "source": [
    "df.info()"
   ]
  },
  {
   "cell_type": "code",
   "execution_count": null,
   "metadata": {},
   "outputs": [],
   "source": []
  }
 ],
 "metadata": {
  "kernelspec": {
   "display_name": "Python 3",
   "language": "python",
   "name": "python3"
  },
  "language_info": {
   "codemirror_mode": {
    "name": "ipython",
    "version": 3
   },
   "file_extension": ".py",
   "mimetype": "text/x-python",
   "name": "python",
   "nbconvert_exporter": "python",
   "pygments_lexer": "ipython3",
   "version": "3.7.3"
  }
 },
 "nbformat": 4,
 "nbformat_minor": 2
}
